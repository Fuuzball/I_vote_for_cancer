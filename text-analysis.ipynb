{
 "cells": [
  {
   "cell_type": "code",
   "execution_count": 12,
   "metadata": {
    "collapsed": true
   },
   "outputs": [],
   "source": [
    "import os\n",
    "import numpy as np\n",
    "import pandas as pd\n",
    "import seaborn as sns\n",
    "from sklearn.feature_extraction.text import TfidfVectorizer\n",
    "from sklearn.feature_extraction.text import CountVectorizer\n",
    "import helpers"
   ]
  },
  {
   "cell_type": "code",
   "execution_count": 2,
   "metadata": {},
   "outputs": [],
   "source": [
    "train_variants_df = pd.read_csv(\"./data/training_variants\")\n",
    "test_variants_df = pd.read_csv(\"./data/test_variants\")\n",
    "train_text_df = pd.read_csv(\"./data/training_text\", sep=\"\\|\\|\", engine=\"python\", skiprows=1, names=[\"ID\", \"Text\"])\n",
    "test_text_df = pd.read_csv(\"./data/test_text\", sep=\"\\|\\|\", engine=\"python\", skiprows=1, names=[\"ID\", \"Text\"])"
   ]
  },
  {
   "cell_type": "code",
   "execution_count": 72,
   "metadata": {},
   "outputs": [
    {
     "name": "stdout",
     "output_type": "stream",
     "text": [
      "Number of entries in class 1: 1136\n",
      "Number of unique texts: 382\n",
      "Number of entries in class 2: 904\n",
      "Number of unique texts: 347\n",
      "Number of entries in class 1: 1136\n",
      "Number of unique texts: 382\n",
      "Number of entries in class 2: 904\n",
      "Number of unique texts: 347\n",
      "Number of entries in class 3: 178\n",
      "Number of unique texts: 41\n",
      "Number of entries in class 4: 1372\n",
      "Number of unique texts: 396\n",
      "Number of entries in class 5: 484\n",
      "Number of unique texts: 126\n",
      "Number of entries in class 6: 550\n",
      "Number of unique texts: 105\n",
      "Number of entries in class 7: 1906\n",
      "Number of unique texts: 693\n",
      "Number of entries in class 8: 38\n",
      "Number of unique texts: 18\n"
     ]
    }
   ],
   "source": [
    "#st = helpers.get_unique_text(train_variants_df, train_text_df, 1, save='class_1.txt', suppress_output=False)\n",
    "st1 = helpers.get_unique_text(train_variants_df, train_text_df, 1, suppress_output=False)\n",
    "st2 = helpers.get_unique_text(train_variants_df, train_text_df, 2, suppress_output=False)\n",
    "\n",
    "stlist = [ helpers.get_unique_text(train_variants_df, train_text_df, k, suppress_output=False) for k in range(1,9)]"
   ]
  },
  {
   "cell_type": "code",
   "execution_count": null,
   "metadata": {},
   "outputs": [],
   "source": [
    "vocabulary = train_variants_df['Gene'].unique()\n",
    "x = helpers.get_number_instances(stlist, vocabulary)"
   ]
  },
  {
   "cell_type": "code",
   "execution_count": null,
   "metadata": {},
   "outputs": [],
   "source": []
  },
  {
   "cell_type": "code",
   "execution_count": null,
   "metadata": {},
   "outputs": [],
   "source": []
  },
  {
   "cell_type": "code",
   "execution_count": 50,
   "metadata": {},
   "outputs": [
    {
     "data": {
      "text/plain": [
       "<module 'helpers' from '/home/dylan/ml/cancer/helpers.py'>"
      ]
     },
     "execution_count": 50,
     "metadata": {},
     "output_type": "execute_result"
    }
   ],
   "source": []
  },
  {
   "cell_type": "code",
   "execution_count": null,
   "metadata": {
    "collapsed": true
   },
   "outputs": [],
   "source": []
  }
 ],
 "metadata": {
  "kernelspec": {
   "display_name": "Python 3",
   "language": "python",
   "name": "python3"
  },
  "language_info": {
   "codemirror_mode": {
    "name": "ipython",
    "version": 3
   },
   "file_extension": ".py",
   "mimetype": "text/x-python",
   "name": "python",
   "nbconvert_exporter": "python",
   "pygments_lexer": "ipython3",
   "version": "3.5.3"
  }
 },
 "nbformat": 4,
 "nbformat_minor": 2
}
