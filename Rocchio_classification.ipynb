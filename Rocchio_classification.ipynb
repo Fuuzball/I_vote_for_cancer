{
 "cells": [
  {
   "cell_type": "code",
   "execution_count": 1,
   "metadata": {
    "collapsed": true
   },
   "outputs": [],
   "source": [
    "import os, math\n",
    "import numpy as np\n",
    "import pandas as pd\n",
    "import seaborn as sns\n",
    "\n",
    "%matplotlib inline\n",
    "import matplotlib.pyplot as plt\n",
    "from sklearn.feature_extraction.text import TfidfVectorizer"
   ]
  },
  {
   "cell_type": "code",
   "execution_count": 2,
   "metadata": {},
   "outputs": [
    {
     "name": "stdout",
     "output_type": "stream",
     "text": [
      "Train Variant   (3321, 4)\n",
      "Train Text      (3321, 2)\n",
      "Test Variant    (5668, 3)\n",
      "Test Text       (5668, 2)\n"
     ]
    }
   ],
   "source": [
    "train_variants_df = pd.read_csv(\"./data/training_variants\")\n",
    "test_variants_df = pd.read_csv(\"./data/test_variants\")\n",
    "train_text_df = pd.read_csv(\"./data/training_text\", sep=\"\\|\\|\", engine=\"python\", skiprows=1, names=[\"ID\", \"Text\"])\n",
    "test_text_df = pd.read_csv(\"./data/test_text\", sep=\"\\|\\|\", engine=\"python\", skiprows=1, names=[\"ID\", \"Text\"])\n",
    "print(\"Train Variant\".ljust(15), train_variants_df.shape)\n",
    "print(\"Train Text\".ljust(15), train_text_df.shape)\n",
    "print(\"Test Variant\".ljust(15), test_variants_df.shape)\n",
    "print(\"Test Text\".ljust(15), test_text_df.shape)\n",
    "\n",
    "train_full = train_variants_df.merge(train_text_df, how='inner', on='ID')"
   ]
  },
  {
   "cell_type": "markdown",
   "metadata": {},
   "source": [
    "Use TF-IDF to Vectorize the texts. "
   ]
  },
  {
   "cell_type": "code",
   "execution_count": 4,
   "metadata": {
    "collapsed": true
   },
   "outputs": [],
   "source": [
    "tfidf = TfidfVectorizer(\n",
    "    min_df=1, max_features=16000, strip_accents='unicode',lowercase =True,\n",
    "    analyzer='word', use_idf=True, \n",
    "    smooth_idf=True, sublinear_tf=True, stop_words = 'english').fit(train_full[\"Text\"])\n",
    "\n",
    "Xtr = tfidf.fit_transform(train_full[\"Text\"])\n",
    "features = tfidf.get_feature_names()"
   ]
  },
  {
   "cell_type": "markdown",
   "metadata": {},
   "source": [
    "To get some feeling of what's in the texts."
   ]
  },
  {
   "cell_type": "code",
   "execution_count": 4,
   "metadata": {
    "collapsed": true
   },
   "outputs": [
    {
     "name": "stdout",
     "output_type": "stream",
     "text": [
      "0.0417689453172\n",
      "mutations\n",
      "0.0418947957314\n",
      "egf\n",
      "0.042485870467\n",
      "orthovanadate\n",
      "0.0426482605304\n",
      "ring\n",
      "0.042742774261\n",
      "bridges\n",
      "0.0428471596207\n",
      "rmsd\n",
      "0.0429524982845\n",
      "waals\n",
      "0.0429524982845\n",
      "thirds\n",
      "0.043427495395\n",
      "sc\n",
      "0.0434919723361\n",
      "homozygous\n",
      "0.0435497118479\n",
      "force\n",
      "0.0438317430994\n",
      "monomeric\n",
      "0.0442385435712\n",
      "piscataway\n",
      "0.0442524229757\n",
      "affinity\n",
      "0.0444234961089\n",
      "benign\n",
      "0.044632504757\n",
      "balance\n",
      "0.045017658653\n",
      "recurrent\n",
      "0.0455528340324\n",
      "biorad\n",
      "0.0456193155048\n",
      "equation\n",
      "0.045821090391\n",
      "repaired\n",
      "0.0458597079587\n",
      "s5\n",
      "0.0458891407567\n",
      "ub\n",
      "0.0459746278225\n",
      "salt\n",
      "0.0463074382842\n",
      "unphosphorylated\n",
      "0.0464566297973\n",
      "interface\n",
      "0.0466133803989\n",
      "cosmic\n",
      "0.0468123936506\n",
      "server\n",
      "0.0469612280192\n",
      "duplicated\n",
      "0.047330328376\n",
      "neutral\n",
      "0.0474196129801\n",
      "fitness\n",
      "0.0474367057272\n",
      "nj\n",
      "0.0479784871671\n",
      "constituted\n",
      "0.0482265505671\n",
      "optimization\n",
      "0.0482409768465\n",
      "structures\n",
      "0.0486522263092\n",
      "2x\n",
      "0.0488944603765\n",
      "id\n",
      "0.0493562170444\n",
      "pdb\n",
      "0.0495538181572\n",
      "donkey\n",
      "0.0503295392068\n",
      "belonged\n",
      "0.0505319041083\n",
      "blind\n",
      "0.0506806643127\n",
      "state\n",
      "0.0507196245027\n",
      "thermodynamic\n",
      "0.0514072419268\n",
      "stages\n",
      "0.0514892323698\n",
      "exponential\n",
      "0.0518045267614\n",
      "lab\n",
      "0.0520327799874\n",
      "ubiquitin\n",
      "0.0526094991063\n",
      "mol\n",
      "0.0528503444202\n",
      "corp\n",
      "0.0531563367216\n",
      "clusters\n",
      "0.0542306568764\n",
      "adobe\n",
      "0.0555474996805\n",
      "driver\n",
      "0.0558119916167\n",
      "closed\n",
      "0.0565609337279\n",
      "attenuating\n",
      "0.0580276055479\n",
      "deciphering\n",
      "0.0583118387673\n",
      "random\n",
      "0.0587809945642\n",
      "stability\n",
      "0.0592646294959\n",
      "energetically\n",
      "0.0599663891911\n",
      "passenger\n",
      "0.0619375106181\n",
      "coordination\n",
      "0.0625166853798\n",
      "authenticated\n",
      "0.0639433353932\n",
      "calculations\n",
      "0.0646691363568\n",
      "borderline\n",
      "0.0650054139956\n",
      "autoinhibitory\n",
      "0.0650123116929\n",
      "computational\n",
      "0.0653939847564\n",
      "egfr\n",
      "0.0657286372707\n",
      "minimization\n",
      "0.0668324386445\n",
      "minimized\n",
      "0.0669426529206\n",
      "conjugating\n",
      "0.0671653487793\n",
      "densitometric\n",
      "0.0686851190568\n",
      "opened\n",
      "0.0688101672144\n",
      "states\n",
      "0.0688159799909\n",
      "kcal\n",
      "0.0701012653686\n",
      "hek293t\n",
      "0.0702769966697\n",
      "experimentally\n",
      "0.0712412584277\n",
      "hela\n",
      "0.0720913431026\n",
      "destabilizing\n",
      "0.0723667114196\n",
      "coordinating\n",
      "0.0725954656552\n",
      "e3\n",
      "0.0730795411792\n",
      "s80n\n",
      "0.0772786153692\n",
      "ubiquitination\n",
      "0.0822842807445\n",
      "impacts\n",
      "0.0832710335646\n",
      "densitometry\n",
      "0.0837587658663\n",
      "energy\n",
      "0.0861866629476\n",
      "foldx\n",
      "0.0865200567336\n",
      "a549\n",
      "0.0867185333636\n",
      "damaging\n",
      "0.087389986802\n",
      "y371h\n",
      "0.0885374279088\n",
      "unfolding\n",
      "0.0897346395173\n",
      "ubch7\n",
      "0.0915028967872\n",
      "q249e\n",
      "0.100870956932\n",
      "provean\n",
      "0.108089736981\n",
      "zn\n",
      "0.111104521441\n",
      "ubch5b\n",
      "0.112628439846\n",
      "δδgbind\n",
      "0.113775721825\n",
      "k382e\n",
      "0.126229785235\n",
      "e2\n",
      "0.137270694728\n",
      "pcbl\n",
      "0.147217650985\n",
      "δδgfold\n",
      "0.162216402237\n",
      "ncbl\n",
      "0.166803036351\n",
      "cbl\n"
     ]
    }
   ],
   "source": [
    "row = np.squeeze(Xtr[4].toarray())\n",
    "top_id = np.argsort(row)[-100:]\n",
    "for i in top_id:\n",
    "    print(row[i])\n",
    "    print(features[i])"
   ]
  },
  {
   "cell_type": "markdown",
   "metadata": {},
   "source": [
    "Use Rocchio(NearestCentroid) classification. I didn't split training/test here. Just want to see what accuracy \n",
    "Rocchio can get using the training data itself. Turns out this is a high bias algorithm."
   ]
  },
  {
   "cell_type": "code",
   "execution_count": 6,
   "metadata": {},
   "outputs": [
    {
     "name": "stdout",
     "output_type": "stream",
     "text": [
      "0.599217103282\n"
     ]
    }
   ],
   "source": [
    "from sklearn.neighbors.nearest_centroid import NearestCentroid\n",
    "\n",
    "\n",
    "y = train_full[\"Class\"]\n",
    "clf = NearestCentroid()\n",
    "clf.fit(Xtr, y)\n",
    "print(clf.score(Xtr, y))\n",
    "y_pred = clf.predict(Xtr)\n",
    "centroids = clf.centroids_"
   ]
  },
  {
   "cell_type": "markdown",
   "metadata": {},
   "source": [
    "Computing log-loss of the TF-IDF classification here"
   ]
  },
  {
   "cell_type": "code",
   "execution_count": 7,
   "metadata": {},
   "outputs": [
    {
     "name": "stdout",
     "output_type": "stream",
     "text": [
      "Log-loss of TF-IDF prediction\n"
     ]
    },
    {
     "ename": "NameError",
     "evalue": "name 'y_tr' is not defined",
     "output_type": "error",
     "traceback": [
      "\u001b[0;31m---------------------------------------------------------------------------\u001b[0m",
      "\u001b[0;31mNameError\u001b[0m                                 Traceback (most recent call last)",
      "\u001b[0;32m<ipython-input-7-a0dfc111eaa9>\u001b[0m in \u001b[0;36m<module>\u001b[0;34m()\u001b[0m\n\u001b[1;32m     23\u001b[0m     \u001b[0;32mreturn\u001b[0m \u001b[0mx\u001b[0m\u001b[0;34m\u001b[0m\u001b[0m\n\u001b[1;32m     24\u001b[0m \u001b[0mprint\u001b[0m\u001b[0;34m(\u001b[0m\u001b[0;34m'Log-loss of TF-IDF prediction'\u001b[0m\u001b[0;34m)\u001b[0m\u001b[0;34m\u001b[0m\u001b[0m\n\u001b[0;32m---> 25\u001b[0;31m \u001b[0mprint\u001b[0m\u001b[0;34m(\u001b[0m\u001b[0mlogloss\u001b[0m\u001b[0;34m(\u001b[0m\u001b[0monehot\u001b[0m\u001b[0;34m(\u001b[0m\u001b[0my_tr\u001b[0m\u001b[0;34m)\u001b[0m\u001b[0;34m,\u001b[0m \u001b[0moutput\u001b[0m\u001b[0;34m)\u001b[0m\u001b[0;34m)\u001b[0m\u001b[0;34m\u001b[0m\u001b[0m\n\u001b[0m",
      "\u001b[0;31mNameError\u001b[0m: name 'y_tr' is not defined"
     ]
    }
   ],
   "source": [
    "def predict(X, ctr):\n",
    "    p = np.zeros((X.shape[0], 9))\n",
    "    for n in range(X.shape[0]):\n",
    "        d = np.zeros(9)\n",
    "        for i in range(9):\n",
    "            d[i] = np.linalg.norm(X[n,:] - ctr[i,:])\n",
    "        d = d/np.linalg.norm(d)\n",
    "        p[n,:] = d\n",
    "    return p\n",
    "\n",
    "def onehot(y):\n",
    "    output = np.zeros((len(y), 9))\n",
    "    for i,n in enumerate(y):\n",
    "        output[i,n-1]=1\n",
    "    return output\n",
    "\n",
    "def logloss(y, X):\n",
    "    N = X.shape[0]\n",
    "    x = 0\n",
    "    for i in range(N):\n",
    "        x+= np.dot(y[i,:], np.log2(X[i,:]))\n",
    "    x = (-1./N)*x\n",
    "    return x\n",
    "print('Log-loss of TF-IDF prediction')\n",
    "print(logloss(onehot(y_tr), output))"
   ]
  },
  {
   "cell_type": "code",
   "execution_count": 6,
   "metadata": {},
   "outputs": [
    {
     "name": "stdout",
     "output_type": "stream",
     "text": [
      "Normalized confusion matrix\n",
      "[[ 0.67  0.04  0.    0.06  0.11  0.02  0.09  0.01  0.  ]\n",
      " [ 0.04  0.66  0.01  0.02  0.    0.    0.25  0.01  0.  ]\n",
      " [ 0.09  0.09  0.52  0.08  0.1   0.01  0.11  0.    0.  ]\n",
      " [ 0.29  0.03  0.01  0.47  0.07  0.02  0.1   0.01  0.  ]\n",
      " [ 0.13  0.04  0.04  0.06  0.45  0.06  0.18  0.03  0.  ]\n",
      " [ 0.16  0.07  0.01  0.03  0.08  0.48  0.17  0.    0.  ]\n",
      " [ 0.02  0.22  0.04  0.01  0.01  0.    0.69  0.01  0.  ]\n",
      " [ 0.    0.    0.    0.    0.    0.    0.16  0.79  0.05]\n",
      " [ 0.05  0.03  0.    0.03  0.    0.    0.    0.16  0.73]]\n"
     ]
    },
    {
     "data": {
      "image/png": "[encoded data removed]",
      "text/plain": [
       "<matplotlib.figure.Figure at 0x118582ac8>"
      ]
     },
     "metadata": {},
     "output_type": "display_data"
    }
   ],
   "source": [
    "from sklearn.metrics import confusion_matrix\n",
    "import itertools\n",
    "\n",
    "def plot_confusion_matrix(cm, classes,\n",
    "                          normalize=False,\n",
    "                          title='Confusion matrix',\n",
    "                          cmap=plt.cm.Blues):\n",
    "    \"\"\"\n",
    "    This function prints and plots the confusion matrix.\n",
    "    Normalization can be applied by setting `normalize=True`.\n",
    "    \"\"\"\n",
    "    \n",
    "    if normalize:\n",
    "        cm = cm.astype('float') / cm.sum(axis=1)[:, np.newaxis]\n",
    "        print(\"Normalized confusion matrix\")\n",
    "    else:\n",
    "        print('Confusion matrix, without normalization')\n",
    "\n",
    "    print(cm)\n",
    "    \n",
    "    plt.imshow(cm, interpolation='nearest', cmap=cmap)\n",
    "    plt.title(title)\n",
    "    plt.colorbar()\n",
    "    tick_marks = np.arange(len(classes))\n",
    "    plt.xticks(tick_marks, classes, rotation=45)\n",
    "    plt.yticks(tick_marks, classes)\n",
    "\n",
    "    thresh = cm.max() / 2.\n",
    "    for i, j in itertools.product(range(cm.shape[0]), range(cm.shape[1])):\n",
    "        plt.text(j, i, \"{:.2f}\".format(cm[i, j]),\n",
    "                 horizontalalignment=\"center\", fontsize = 15,\n",
    "                 color=\"white\" if cm[i, j] > thresh else \"black\")\n",
    "\n",
    "    plt.tight_layout()\n",
    "    plt.ylabel('True label')\n",
    "    plt.xlabel('Predicted label')\n",
    "\n",
    "# Compute confusion matrix\n",
    "cnf_matrix = confusion_matrix(y, y_pred)\n",
    "np.set_printoptions(precision=2)\n",
    "\n",
    "# Plot non-normalized confusion matrix\n",
    "plt.figure(figsize=(10,10))\n",
    "plot_confusion_matrix(cnf_matrix, classes=range(1,10), normalize=True, \n",
    "                      title='Confusion matrix, without normalization')\n",
    "plt.show()"
   ]
  },
  {
   "cell_type": "markdown",
   "metadata": {},
   "source": [
    "It seems it is easy to predict a class-4 text into class-1, and it's hard to distinguish class-2 and class-7"
   ]
  },
  {
   "cell_type": "code",
   "execution_count": null,
   "metadata": {
    "collapsed": true
   },
   "outputs": [],
   "source": []
  }
 ],
 "metadata": {
  "kernelspec": {
   "display_name": "Python 3",
   "language": "python",
   "name": "python3"
  },
  "language_info": {
   "codemirror_mode": {
    "name": "ipython",
    "version": 3
   },
   "file_extension": ".py",
   "mimetype": "text/x-python",
   "name": "python",
   "nbconvert_exporter": "python",
   "pygments_lexer": "ipython3",
   "version": "3.6.1"
  }
 },
 "nbformat": 4,
 "nbformat_minor": 2
}
