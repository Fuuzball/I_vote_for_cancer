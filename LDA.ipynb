{
 "cells": [
  {
   "cell_type": "code",
   "execution_count": 54,
   "metadata": {
    "collapsed": false
   },
   "outputs": [],
   "source": [
    "from nltk.tokenize import RegexpTokenizer\n",
    "tokenizer = RegexpTokenizer(r'\\w+')\n",
    "\n",
    "import os, math\n",
    "import numpy as np\n",
    "import pandas as pd\n",
    "import seaborn as sns\n",
    "import helpers\n",
    "\n",
    "%matplotlib inline\n",
    "import time\n",
    "import matplotlib.pyplot as plt\n",
    "from sklearn.feature_extraction.text import TfidfVectorizer\n",
    "from sklearn.model_selection import train_test_split\n",
    "import pandas as pd\n",
    "\n",
    "from sklearn import svm\n",
    "from sklearn.preprocessing import label_binarize\n",
    "from sklearn.multiclass import OneVsRestClassifier\n",
    "from sklearn.pipeline import Pipeline\n",
    "from sklearn.feature_selection import SelectKBest, mutual_info_classif\n",
    "from sklearn.metrics import log_loss\n",
    "\n",
    "from nltk.tokenize import RegexpTokenizer\n",
    "from stop_words import get_stop_words\n",
    "from nltk.stem.porter import PorterStemmer\n",
    "from gensim import corpora, models\n",
    "import gensim\n",
    "\n",
    "en_stop = get_stop_words('en')\n",
    "p_stemmer = PorterStemmer()\n",
    "tokenizer = RegexpTokenizer(r'\\w+')"
   ]
  },
  {
   "cell_type": "code",
   "execution_count": 5,
   "metadata": {
    "collapsed": false
   },
   "outputs": [
    {
     "name": "stdout",
     "output_type": "stream",
     "text": [
      "(2656, 5)\n",
      "(665, 5)\n"
     ]
    }
   ],
   "source": [
    "y = pd.read_csv('./data/training_variants')\n",
    "X = pd.read_csv('./data/training_text', sep=\"\\|\\|\", engine=\"python\", skiprows=1, names=[\"ID\", \"Text\"])\n",
    "text_train, text_test, variants_train, variants_test = train_test_split(X, y, test_size=0.2, \\\n",
    "                                                                        random_state=0, stratify=None)\n",
    "\n",
    "train_full = variants_train.merge(text_train, how='inner', on='ID')\n",
    "test_full = variants_test.merge(text_test, how='inner', on='ID')\n",
    "\n",
    "print(train_full.shape)\n",
    "print(test_full.shape)"
   ]
  },
  {
   "cell_type": "code",
   "execution_count": 25,
   "metadata": {
    "collapsed": false,
    "scrolled": true
   },
   "outputs": [],
   "source": [
    "mini_doc = train_full['Text'][:200]\n",
    "mini_doc_class = train_full['Class'][:200]\n",
    "mini_test = test_full['Text'][:40]\n",
    "mini_test_class = test_full['Class'][:40]"
   ]
  },
  {
   "cell_type": "code",
   "execution_count": 34,
   "metadata": {
    "collapsed": true
   },
   "outputs": [],
   "source": [
    "def get_tokens(doc):\n",
    "    # clean and tokenize document string\n",
    "    raw = doc.lower()\n",
    "    tokens = tokenizer.tokenize(raw)\n",
    "\n",
    "    # remove stop words from tokens\n",
    "    stopped_tokens = [i for i in tokens if not i in en_stop]\n",
    "    \n",
    "    # stem tokens\n",
    "    stemmed_tokens = [p_stemmer.stem(i) for i in stopped_tokens]\n",
    "    return stemmed_tokens"
   ]
  },
  {
   "cell_type": "code",
   "execution_count": 7,
   "metadata": {
    "collapsed": false
   },
   "outputs": [],
   "source": [
    "# list for tokenized documents in loop\n",
    "texts = []\n",
    "\n",
    "# loop through document list\n",
    "for i in mini_doc:\n",
    "    \n",
    "    # clean and tokenize document string\n",
    "    raw = i.lower()\n",
    "    tokens = tokenizer.tokenize(raw)\n",
    "\n",
    "    # remove stop words from tokens\n",
    "    stopped_tokens = [i for i in tokens if not i in en_stop]\n",
    "    \n",
    "    # stem tokens\n",
    "    stemmed_tokens = [p_stemmer.stem(i) for i in stopped_tokens]\n",
    "    \n",
    "    # add tokens to list\n",
    "    texts.append(stemmed_tokens)"
   ]
  },
  {
   "cell_type": "code",
   "execution_count": 8,
   "metadata": {
    "collapsed": false,
    "scrolled": true
   },
   "outputs": [
    {
     "name": "stdout",
     "output_type": "stream",
     "text": [
      "236.75122332572937\n"
     ]
    }
   ],
   "source": [
    "n_topics = 10\n",
    "# turn our tokenized documents into a id <-> term dictionary\n",
    "dictionary = corpora.Dictionary(texts)\n",
    "    \n",
    "# convert tokenized documents into a document-term matrix\n",
    "corpus = [dictionary.doc2bow(text) for text in texts]\n",
    "\n",
    "t0 = time.time()\n",
    "# generate LDA model\n",
    "ldamodel = gensim.models.ldamodel.LdaModel(corpus, num_topics=n_topics, id2word = dictionary, passes=20)\n",
    "print(time.time() - t0)"
   ]
  },
  {
   "cell_type": "code",
   "execution_count": 9,
   "metadata": {
    "collapsed": false,
    "scrolled": true
   },
   "outputs": [
    {
     "name": "stdout",
     "output_type": "stream",
     "text": [
      "(0, '0.025*\"mutat\" + 0.016*\"patient\" + 0.013*\"egfr\" + 0.011*\"cell\" + 0.011*\"1\" + 0.008*\"exon\" + 0.008*\"0\"')\n",
      "(1, '0.032*\"brca1\" + 0.019*\"variant\" + 0.014*\"assay\" + 0.011*\"cell\" + 0.010*\"function\" + 0.010*\"c\" + 0.008*\"mutat\"')\n",
      "(2, '0.027*\"cell\" + 0.010*\"mutat\" + 0.009*\"express\" + 0.008*\"tumor\" + 0.008*\"1\" + 0.007*\"gene\" + 0.007*\"activ\"')\n",
      "(3, '0.021*\"mutat\" + 0.017*\"pten\" + 0.014*\"cell\" + 0.012*\"activ\" + 0.011*\"1\" + 0.010*\"fig\" + 0.009*\"protein\"')\n",
      "(4, '0.023*\"mutat\" + 0.009*\"cell\" + 0.009*\"patient\" + 0.009*\"1\" + 0.008*\"gene\" + 0.008*\"2\" + 0.007*\"0\"')\n",
      "(5, '0.025*\"ra\" + 0.014*\"activ\" + 0.012*\"cell\" + 0.012*\"1\" + 0.009*\"mutat\" + 0.008*\"protein\" + 0.007*\"raf\"')\n",
      "(6, '0.014*\"cell\" + 0.012*\"mutat\" + 0.012*\"activ\" + 0.012*\"resist\" + 0.010*\"nrf2\" + 0.008*\"kinas\" + 0.008*\"al\"')\n",
      "(7, '0.022*\"p53\" + 0.015*\"cell\" + 0.014*\"mutant\" + 0.011*\"mutat\" + 0.010*\"ar\" + 0.009*\"activ\" + 0.009*\"express\"')\n",
      "(8, '0.023*\"variant\" + 0.012*\"mutat\" + 0.011*\"1\" + 0.009*\"cancer\" + 0.008*\"function\" + 0.008*\"use\" + 0.007*\"brca1\"')\n",
      "(9, '0.018*\"met\" + 0.016*\"cell\" + 0.011*\"mutat\" + 0.011*\"c\" + 0.009*\"tumor\" + 0.007*\"express\" + 0.007*\"1\"')\n"
     ]
    }
   ],
   "source": [
    "for line in (ldamodel.print_topics(num_topics=n_topics, num_words=7)):\n",
    "    print(line)\n"
   ]
  },
  {
   "cell_type": "code",
   "execution_count": 47,
   "metadata": {
    "collapsed": false
   },
   "outputs": [
    {
     "name": "stdout",
     "output_type": "stream",
     "text": [
      "0\n",
      "20\n",
      "40\n",
      "60\n",
      "80\n",
      "100\n",
      "120\n",
      "140\n",
      "160\n",
      "180\n"
     ]
    }
   ],
   "source": [
    "n_train = 200\n",
    "train_lda = np.zeros((n_train, 10))\n",
    "for i in range(n_train):\n",
    "    if i % 20 == 0:\n",
    "        print(i)\n",
    "    doc = get_tokens(mini_doc[i])\n",
    "    bow = dictionary.doc2bow(doc)\n",
    "    for idx, prob in ldamodel[bow]:\n",
    "        train_lda[i, idx] = prob"
   ]
  },
  {
   "cell_type": "code",
   "execution_count": 40,
   "metadata": {
    "collapsed": false
   },
   "outputs": [],
   "source": [
    "test_lda = np.zeros((40, 10))\n",
    "for i in range(40):\n",
    "    doc = get_tokens(mini_test[i])\n",
    "    bow = dictionary.doc2bow(doc)\n",
    "    for idx, prob in ldamodel[bow]:\n",
    "        test_lda[i, idx] = prob"
   ]
  },
  {
   "cell_type": "code",
   "execution_count": 48,
   "metadata": {
    "collapsed": false
   },
   "outputs": [
    {
     "data": {
      "text/plain": [
       "OneVsRestClassifier(estimator=SVC(C=1.0, cache_size=200, class_weight=None, coef0=0.0,\n",
       "  decision_function_shape=None, degree=3, gamma='auto', kernel='linear',\n",
       "  max_iter=-1, probability=True, random_state=42, shrinking=True,\n",
       "  tol=0.001, verbose=False),\n",
       "          n_jobs=1)"
      ]
     },
     "execution_count": 48,
     "metadata": {},
     "output_type": "execute_result"
    }
   ],
   "source": [
    "clf = OneVsRestClassifier(\n",
    "    svm.SVC(C=1., kernel='linear', probability=True, random_state=42)\n",
    ")\n",
    "\n",
    "y_train = label_binarize(\n",
    "    mini_doc_class, classes = range(1, 10)\n",
    ")\n",
    "y_test = label_binarize(\n",
    "    mini_test_class, classes = range(1, 10)\n",
    ")\n",
    "\n",
    "clf.fit(train_lda, y_train)"
   ]
  },
  {
   "cell_type": "code",
   "execution_count": 50,
   "metadata": {
    "collapsed": false
   },
   "outputs": [],
   "source": [
    "test_prob = clf.predict_proba(test_lda)"
   ]
  },
  {
   "cell_type": "code",
   "execution_count": 53,
   "metadata": {
    "collapsed": false
   },
   "outputs": [
    {
     "data": {
      "text/plain": [
       "1.760933975749309"
      ]
     },
     "execution_count": 53,
     "metadata": {},
     "output_type": "execute_result"
    }
   ],
   "source": [
    "log_loss(y_test, test_prob)"
   ]
  },
  {
   "cell_type": "code",
   "execution_count": 55,
   "metadata": {
    "collapsed": false
   },
   "outputs": [
    {
     "name": "stderr",
     "output_type": "stream",
     "text": [
      "/home/mike/anaconda3/lib/python3.6/site-packages/sklearn/metrics/ranking.py:542: UndefinedMetricWarning: No positive samples in y_true, true positive value should be meaningless\n",
      "  UndefinedMetricWarning)\n"
     ]
    },
    {
     "data": {
      "image/png": "[encoded data removed]",
      "text/plain": [
       "<matplotlib.figure.Figure at 0x7f90a40aa550>"
      ]
     },
     "metadata": {},
     "output_type": "display_data"
    }
   ],
   "source": [
    "helpers.plot_roc_curve(y_test, test_prob)"
   ]
  },
  {
   "cell_type": "code",
   "execution_count": null,
   "metadata": {
    "collapsed": true
   },
   "outputs": [],
   "source": []
  }
 ],
 "metadata": {
  "kernelspec": {
   "display_name": "Python 3",
   "language": "python",
   "name": "python3"
  },
  "language_info": {
   "codemirror_mode": {
    "name": "ipython",
    "version": 3
   },
   "file_extension": ".py",
   "mimetype": "text/x-python",
   "name": "python",
   "nbconvert_exporter": "python",
   "pygments_lexer": "ipython3",
   "version": "3.6.0"
  }
 },
 "nbformat": 4,
 "nbformat_minor": 2
}
