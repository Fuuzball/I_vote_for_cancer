{
 "cells": [
  {
   "cell_type": "code",
   "execution_count": 4,
   "metadata": {
    "collapsed": false
   },
   "outputs": [],
   "source": [
    "from nltk.tokenize import RegexpTokenizer\n",
    "tokenizer = RegexpTokenizer(r'\\w+')\n",
    "\n",
    "import os, math\n",
    "import numpy as np\n",
    "import pandas as pd\n",
    "import seaborn as sns\n",
    "import helpers\n",
    "\n",
    "%matplotlib inline\n",
    "import time\n",
    "import matplotlib.pyplot as plt\n",
    "from sklearn.feature_extraction.text import TfidfVectorizer\n",
    "from sklearn.model_selection import train_test_split\n",
    "import pandas as pd\n",
    "\n",
    "from sklearn import svm\n",
    "from sklearn.preprocessing import label_binarize\n",
    "from sklearn.multiclass import OneVsRestClassifier\n",
    "from sklearn.pipeline import Pipeline\n",
    "from sklearn.feature_selection import SelectKBest, mutual_info_classif\n",
    "from sklearn.metrics import log_loss\n",
    "\n",
    "from nltk.tokenize import RegexpTokenizer\n",
    "from stop_words import get_stop_words\n",
    "from nltk.stem.porter import PorterStemmer\n",
    "from gensim import corpora, models\n",
    "import gensim\n",
    "\n",
    "en_stop = get_stop_words('en')\n",
    "p_stemmer = PorterStemmer()\n",
    "tokenizer = RegexpTokenizer(r'\\w+')"
   ]
  },
  {
   "cell_type": "code",
   "execution_count": 5,
   "metadata": {
    "collapsed": false
   },
   "outputs": [
    {
     "name": "stdout",
     "output_type": "stream",
     "text": [
      "(2656, 5)\n",
      "(665, 5)\n"
     ]
    }
   ],
   "source": [
    "y = pd.read_csv('./data/training_variants')\n",
    "X = pd.read_csv('./data/training_text', sep=\"\\|\\|\", engine=\"python\", skiprows=1, names=[\"ID\", \"Text\"])\n",
    "text_train, text_test, variants_train, variants_test = train_test_split(X, y, test_size=0.2, \\\n",
    "                                                                        random_state=0, stratify=None)\n",
    "\n",
    "train_full = variants_train.merge(text_train, how='inner', on='ID')\n",
    "test_full = variants_test.merge(text_test, how='inner', on='ID')\n",
    "\n",
    "print(train_full.shape)\n",
    "print(test_full.shape)"
   ]
  },
  {
   "cell_type": "code",
   "execution_count": 52,
   "metadata": {
    "collapsed": false,
    "scrolled": true
   },
   "outputs": [
    {
     "data": {
      "text/plain": [
       "2656"
      ]
     },
     "execution_count": 52,
     "metadata": {},
     "output_type": "execute_result"
    }
   ],
   "source": [
    "mini_doc = train_full['Text'][:200]\n",
    "mini_doc_class = train_full['Class'][:200]\n",
    "mini_test = test_full['Text'][:40]\n",
    "mini_test_class = test_full['Class'][:40]\n",
    "\n",
    "train_doc = train_full['Text']\n",
    "train_class = train_full['Class']\n",
    "test_doc = test_full['Text']\n",
    "test_class = test_full['Class']\n",
    "n_test = (test_doc.size)\n",
    "n_train = train_doc.size"
   ]
  },
  {
   "cell_type": "code",
   "execution_count": 24,
   "metadata": {
    "collapsed": true
   },
   "outputs": [],
   "source": [
    "def get_tokens(doc):\n",
    "    # clean and tokenize document string\n",
    "    raw = doc.lower()\n",
    "    tokens = tokenizer.tokenize(raw)\n",
    "\n",
    "    # remove stop words from tokens\n",
    "    stopped_tokens = [i for i in tokens if not i in en_stop]\n",
    "    \n",
    "    # stem tokens\n",
    "    #stemmed_tokens = [p_stemmer.stem(i) for i in stopped_tokens]\n",
    "    return stopped_tokens"
   ]
  },
  {
   "cell_type": "code",
   "execution_count": 33,
   "metadata": {
    "collapsed": false
   },
   "outputs": [
    {
     "data": {
      "text/plain": [
       "[]"
      ]
     },
     "execution_count": 33,
     "metadata": {},
     "output_type": "execute_result"
    }
   ],
   "source": [
    "corpus[1]"
   ]
  },
  {
   "cell_type": "code",
   "execution_count": 25,
   "metadata": {
    "collapsed": false
   },
   "outputs": [
    {
     "name": "stdout",
     "output_type": "stream",
     "text": [
      "0\n",
      "100\n",
      "200\n",
      "300\n",
      "400\n",
      "500\n",
      "600\n",
      "700\n",
      "800\n",
      "900\n",
      "1000\n",
      "1100\n",
      "1200\n",
      "1300\n",
      "1400\n",
      "1500\n",
      "1600\n",
      "1700\n",
      "1800\n",
      "1900\n",
      "2000\n",
      "2100\n",
      "2200\n",
      "2300\n",
      "2400\n",
      "2500\n",
      "2600\n"
     ]
    }
   ],
   "source": [
    "# list for tokenized documents in loop\n",
    "train_corpus = []\n",
    "\n",
    "# loop through document list\n",
    "for idx, doc in enumerate(train_doc):\n",
    "    if idx % 100 == 0:\n",
    "        print(idx)\n",
    "    train_corpus.append(get_tokens(doc))"
   ]
  },
  {
   "cell_type": "code",
   "execution_count": 35,
   "metadata": {
    "collapsed": false,
    "scrolled": true
   },
   "outputs": [
    {
     "name": "stdout",
     "output_type": "stream",
     "text": [
      "1395.3127946853638\n"
     ]
    }
   ],
   "source": [
    "n_topics = 50\n",
    "# turn our tokenized documents into a id <-> term dictionary\n",
    "dictionary = corpora.Dictionary(train_corpus)\n",
    "    \n",
    "# convert tokenized documents into a document-term matrix\n",
    "corpus = [dictionary.doc2bow(text) for text in train_corpus]\n",
    "\n",
    "t0 = time.time()\n",
    "# generate LDA model\n",
    "ldamodel = gensim.models.ldamodel.LdaModel(corpus, num_topics=n_topics, id2word = dictionary, passes=20)\n",
    "print(time.time() - t0)"
   ]
  },
  {
   "cell_type": "code",
   "execution_count": 37,
   "metadata": {
    "collapsed": true
   },
   "outputs": [],
   "source": [
    "#ldamodel.save('./data/lda_model')"
   ]
  },
  {
   "cell_type": "code",
   "execution_count": 41,
   "metadata": {
    "collapsed": false,
    "scrolled": true
   },
   "outputs": [
    {
     "name": "stdout",
     "output_type": "stream",
     "text": [
      "(0, '0.015*\"mutations\" + 0.009*\"tumors\" + 0.009*\"cancer\" + 0.008*\"gene\" + 0.008*\"1\"')\n",
      "(1, '0.018*\"mutations\" + 0.010*\"splicing\" + 0.009*\"hotspots\" + 0.009*\"genes\" + 0.007*\"mutation\"')\n",
      "(2, '0.027*\"raf\" + 0.025*\"ras\" + 0.011*\"b\" + 0.009*\"1\" + 0.009*\"activity\"')\n",
      "(3, '0.023*\"smad4\" + 0.019*\"smad2\" + 0.010*\"1\" + 0.009*\"figure\" + 0.009*\"c\"')\n",
      "(4, '0.031*\"kit\" + 0.020*\"imatinib\" + 0.014*\"mutations\" + 0.012*\"patients\" + 0.012*\"1\"')\n",
      "(5, '0.019*\"et\" + 0.019*\"al\" + 0.015*\"1\" + 0.014*\"p\" + 0.013*\"2\"')\n",
      "(6, '0.033*\"spop\" + 0.026*\"ar\" + 0.010*\"cells\" + 0.010*\"3\" + 0.009*\"cul3\"')\n",
      "(7, '0.030*\"cells\" + 0.016*\"cell\" + 0.012*\"kinase\" + 0.012*\"fgfr2\" + 0.010*\"mutations\"')\n",
      "(8, '0.024*\"notch\" + 0.016*\"et\" + 0.016*\"al\" + 0.015*\"cells\" + 0.013*\"cell\"')\n",
      "(9, '0.013*\"fig\" + 0.012*\"1\" + 0.010*\"cells\" + 0.009*\"binding\" + 0.008*\"dna\"')\n",
      "(10, '0.026*\"her2\" + 0.020*\"erbb2\" + 0.019*\"mutations\" + 0.015*\"cells\" + 0.011*\"kinase\"')\n",
      "(11, '0.028*\"cells\" + 0.019*\"figure\" + 0.017*\"protein\" + 0.015*\"mutant\" + 0.013*\"proteins\"')\n",
      "(12, '0.041*\"mtor\" + 0.030*\"mutations\" + 0.012*\"runx1\" + 0.012*\"figure\" + 0.011*\"mtorc1\"')\n",
      "(13, '0.057*\"pten\" + 0.028*\"mutations\" + 0.016*\"activity\" + 0.012*\"phosphatase\" + 0.009*\"catalytic\"')\n",
      "(14, '0.010*\"cancer\" + 0.009*\"1\" + 0.009*\"2\" + 0.008*\"cell\" + 0.007*\"amplification\"')\n",
      "(15, '0.031*\"dna\" + 0.027*\"tet2\" + 0.016*\"figure\" + 0.015*\"al\" + 0.015*\"et\"')\n",
      "(16, '0.036*\"jak2\" + 0.019*\"abl\" + 0.014*\"bcr\" + 0.014*\"kinase\" + 0.010*\"binding\"')\n",
      "(17, '0.014*\"hif\" + 0.013*\"pvhl\" + 0.013*\"vhl\" + 0.012*\"1\" + 0.011*\"cells\"')\n",
      "(18, '0.022*\"mutations\" + 0.018*\"pik3ca\" + 0.013*\"pi3k\" + 0.012*\"p110α\" + 0.011*\"domain\"')\n",
      "(19, '0.038*\"alk\" + 0.016*\"crizotinib\" + 0.012*\"mutations\" + 0.011*\"resistance\" + 0.009*\"cell\"')\n",
      "(20, '0.025*\"brca1\" + 0.018*\"variants\" + 0.011*\"c\" + 0.010*\"brct\" + 0.009*\"mutations\"')\n",
      "(21, '0.017*\"kinase\" + 0.016*\"mutations\" + 0.009*\"figure\" + 0.008*\"domain\" + 0.008*\"loop\"')\n",
      "(22, '0.029*\"brca1\" + 0.016*\"e2\" + 0.015*\"interaction\" + 0.013*\"bard1\" + 0.013*\"binding\"')\n",
      "(23, '0.034*\"brca1\" + 0.013*\"cancer\" + 0.012*\"cells\" + 0.011*\"breast\" + 0.010*\"dna\"')\n",
      "(24, '0.038*\"flt3\" + 0.015*\"mutations\" + 0.014*\"cells\" + 0.010*\"itd\" + 0.008*\"aml\"')\n",
      "(25, '0.017*\"al\" + 0.017*\"et\" + 0.013*\"cell\" + 0.012*\"cells\" + 0.012*\"cyclin\"')\n",
      "(26, '0.040*\"1\" + 0.026*\"2\" + 0.017*\"3\" + 0.016*\"0\" + 0.014*\"variants\"')\n",
      "(27, '0.012*\"tuberin\" + 0.009*\"cells\" + 0.009*\"protein\" + 0.009*\"1\" + 0.007*\"hamartin\"')\n",
      "(28, '0.024*\"al\" + 0.024*\"et\" + 0.024*\"b\" + 0.015*\"subunit\" + 0.014*\"pp2a\"')\n",
      "(29, '0.052*\"p53\" + 0.013*\"mutant\" + 0.010*\"dna\" + 0.010*\"mutants\" + 0.008*\"binding\"')\n",
      "(30, '0.024*\"variants\" + 0.017*\"mlh1\" + 0.013*\"mmr\" + 0.011*\"msh2\" + 0.010*\"data\"')\n",
      "(31, '0.020*\"alk\" + 0.015*\"et\" + 0.015*\"al\" + 0.012*\"fbw7\" + 0.012*\"cells\"')\n",
      "(32, '0.029*\"egfr\" + 0.026*\"mutations\" + 0.024*\"patients\" + 0.013*\"exon\" + 0.012*\"0\"')\n",
      "(33, '0.034*\"ret\" + 0.023*\"rhoa\" + 0.011*\"cells\" + 0.009*\"caspase\" + 0.008*\"1\"')\n",
      "(34, '0.016*\"catenin\" + 0.014*\"pdgfra\" + 0.013*\"mutations\" + 0.013*\"β\" + 0.009*\"3\"')\n",
      "(35, '0.016*\"akt\" + 0.014*\"akt1\" + 0.011*\"alleles\" + 0.010*\"fig\" + 0.009*\"cells\"')\n",
      "(36, '0.028*\"met\" + 0.015*\"c\" + 0.012*\"cbl\" + 0.011*\"cell\" + 0.011*\"mutations\"')\n",
      "(37, '0.017*\"cells\" + 0.014*\"expression\" + 0.014*\"cell\" + 0.011*\"1\" + 0.010*\"mice\"')\n",
      "(38, '0.016*\"patients\" + 0.010*\"1\" + 0.009*\"et\" + 0.009*\"al\" + 0.009*\"3\"')\n",
      "(39, '0.042*\"egfr\" + 0.014*\"patients\" + 0.014*\"mutations\" + 0.012*\"gefitinib\" + 0.011*\"1\"')\n",
      "(40, '0.014*\"cells\" + 0.012*\"1\" + 0.011*\"fusion\" + 0.010*\"t\" + 0.009*\"5\"')\n",
      "(41, '0.027*\"p16\" + 0.013*\"cdk6\" + 0.010*\"1\" + 0.010*\"mutants\" + 0.009*\"cdk4\"')\n",
      "(42, '0.046*\"braf\" + 0.014*\"mek\" + 0.013*\"mutations\" + 0.011*\"kinase\" + 0.011*\"mek1\"')\n",
      "(43, '0.014*\"cells\" + 0.010*\"1\" + 0.009*\"idh1\" + 0.009*\"mutations\" + 0.008*\"cdk12\"')\n",
      "(44, '0.020*\"smo\" + 0.008*\"mutations\" + 0.008*\"figure\" + 0.007*\"resistance\" + 0.007*\"ddr2\"')\n",
      "(45, '0.020*\"0\" + 0.018*\"vhl\" + 0.016*\"1\" + 0.015*\"chk2\" + 0.014*\"2\"')\n",
      "(46, '0.023*\"smad3\" + 0.022*\"smad4\" + 0.018*\"tgf\" + 0.014*\"mutations\" + 0.012*\"smad2\"')\n",
      "(47, '0.029*\"nrf2\" + 0.017*\"keap1\" + 0.017*\"al\" + 0.017*\"et\" + 0.010*\"mutations\"')\n",
      "(48, '0.038*\"ras\" + 0.015*\"kras\" + 0.012*\"mutations\" + 0.011*\"k\" + 0.010*\"gtp\"')\n",
      "(49, '0.043*\"tsc2\" + 0.029*\"tsc1\" + 0.019*\"p\" + 0.018*\"variants\" + 0.015*\"s6k\"')\n"
     ]
    }
   ],
   "source": [
    "for line in (ldamodel.print_topics(num_topics=n_topics, num_words=5)):\n",
    "    print(line)\n"
   ]
  },
  {
   "cell_type": "code",
   "execution_count": 48,
   "metadata": {
    "collapsed": false
   },
   "outputs": [
    {
     "name": "stdout",
     "output_type": "stream",
     "text": [
      "0\n",
      "100\n",
      "200\n",
      "300\n",
      "400\n",
      "500\n",
      "600\n",
      "700\n",
      "800\n",
      "900\n",
      "1000\n",
      "1100\n",
      "1200\n",
      "1300\n",
      "1400\n",
      "1500\n",
      "1600\n",
      "1700\n",
      "1800\n",
      "1900\n",
      "2000\n",
      "2100\n",
      "2200\n",
      "2300\n",
      "2400\n",
      "2500\n",
      "2600\n"
     ]
    }
   ],
   "source": [
    "#n_train = len(train_corpus)\n",
    "train_lda = np.zeros((n_train, n_topics))\n",
    "for i in range(n_train):\n",
    "    if i % 100 == 0:\n",
    "        print(i)\n",
    "    bow = corpus[i]\n",
    "    for idx, prob in ldamodel[bow]:\n",
    "        train_lda[i, idx] = prob"
   ]
  },
  {
   "cell_type": "code",
   "execution_count": 54,
   "metadata": {
    "collapsed": false
   },
   "outputs": [
    {
     "name": "stdout",
     "output_type": "stream",
     "text": [
      "0\n",
      "100\n",
      "200\n",
      "300\n",
      "400\n",
      "500\n",
      "600\n"
     ]
    }
   ],
   "source": [
    "#n_test = len(train_corpus)\n",
    "test_lda = np.zeros((n_test, n_topics))\n",
    "for i in range(n_test):\n",
    "    if i % 100 == 0:\n",
    "        print(i)\n",
    "    doc = get_tokens(test_doc[i])\n",
    "    bow = dictionary.doc2bow(doc)\n",
    "    for idx, prob in ldamodel[bow]:\n",
    "        test_lda[i, idx] = prob"
   ]
  },
  {
   "cell_type": "code",
   "execution_count": 55,
   "metadata": {
    "collapsed": false
   },
   "outputs": [
    {
     "data": {
      "text/plain": [
       "OneVsRestClassifier(estimator=SVC(C=1.0, cache_size=200, class_weight=None, coef0=0.0,\n",
       "  decision_function_shape=None, degree=3, gamma='auto', kernel='linear',\n",
       "  max_iter=-1, probability=True, random_state=42, shrinking=True,\n",
       "  tol=0.001, verbose=False),\n",
       "          n_jobs=1)"
      ]
     },
     "execution_count": 55,
     "metadata": {},
     "output_type": "execute_result"
    }
   ],
   "source": [
    "clf = OneVsRestClassifier(\n",
    "    svm.SVC(C=1., kernel='linear', probability=True, random_state=42)\n",
    ")\n",
    "\n",
    "y_train = label_binarize(\n",
    "    train_class, classes = range(1, 10)\n",
    ")\n",
    "y_test = label_binarize(\n",
    "    test_class, classes = range(1, 10)\n",
    ")\n",
    "\n",
    "clf.fit(train_lda, y_train)"
   ]
  },
  {
   "cell_type": "code",
   "execution_count": 56,
   "metadata": {
    "collapsed": false
   },
   "outputs": [],
   "source": [
    "test_prob = clf.predict_proba(test_lda)"
   ]
  },
  {
   "cell_type": "code",
   "execution_count": 57,
   "metadata": {
    "collapsed": false
   },
   "outputs": [
    {
     "data": {
      "text/plain": [
       "1.6002645176332384"
      ]
     },
     "execution_count": 57,
     "metadata": {},
     "output_type": "execute_result"
    }
   ],
   "source": [
    "log_loss(y_test, test_prob)"
   ]
  },
  {
   "cell_type": "code",
   "execution_count": 58,
   "metadata": {
    "collapsed": false
   },
   "outputs": [
    {
     "data": {
      "image/png": "[encoded data removed]",
      "text/plain": [
       "<matplotlib.figure.Figure at 0x7f5b0e28c400>"
      ]
     },
     "metadata": {},
     "output_type": "display_data"
    }
   ],
   "source": [
    "helpers.plot_roc_curve(y_test, test_prob)"
   ]
  },
  {
   "cell_type": "code",
   "execution_count": null,
   "metadata": {
    "collapsed": true
   },
   "outputs": [],
   "source": []
  }
 ],
 "metadata": {
  "kernelspec": {
   "display_name": "Python 3",
   "language": "python",
   "name": "python3"
  },
  "language_info": {
   "codemirror_mode": {
    "name": "ipython",
    "version": 3
   },
   "file_extension": ".py",
   "mimetype": "text/x-python",
   "name": "python",
   "nbconvert_exporter": "python",
   "pygments_lexer": "ipython3",
   "version": "3.6.0"
  }
 },
 "nbformat": 4,
 "nbformat_minor": 2
}
