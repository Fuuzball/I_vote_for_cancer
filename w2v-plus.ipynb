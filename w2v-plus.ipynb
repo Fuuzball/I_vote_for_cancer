{
 "cells": [
  {
   "cell_type": "code",
   "execution_count": 1,
   "metadata": {},
   "outputs": [
    {
     "name": "stdout",
     "output_type": "stream",
     "text": [
      "Populating the interactive namespace from numpy and matplotlib\n"
     ]
    }
   ],
   "source": [
    "import numpy as np\n",
    "import helpers\n",
    "import pandas as pd\n",
    "import seaborn as sns\n",
    "import helpers\n",
    "%pylab inline\n",
    "import matplotlib.pyplot as plt\n",
    "from w2v import *\n",
    "from sklearn.feature_extraction.text import CountVectorizer\n",
    "from sklearn import decomposition as dcmp\n",
    "from sklearn.metrics import log_loss"
   ]
  },
  {
   "cell_type": "code",
   "execution_count": 2,
   "metadata": {},
   "outputs": [],
   "source": [
    "X1, y1 = helpers.get_training('./data/training_variants', './data/training_text')\n",
    "X2, y2 = helpers.get_test('./data/training_variants', './data/training_text')"
   ]
  },
  {
   "cell_type": "code",
   "execution_count": 4,
   "metadata": {},
   "outputs": [],
   "source": [
    "X_text = pd.concat([X1, X2]).Text\n",
    "y = pd.concat([y1, y2])\n",
    "y_train = y.Class\n",
    "X_genes = y.Gene\n",
    "X_variants = y.Variation\n",
    "gene_vocab = X_genes.unique()\n",
    "variant_vocab = X_variants.unique()\n",
    "X_text_unique = X_text.unique()\n",
    "variantVectorizer=CountVectorizer(vocabulary=variant_vocab, lowercase=False)\n",
    "variantData = variantVectorizer.transform(X_text_unique).toarray()\n",
    "geneVectorizer=CountVectorizer(vocabulary=gene_vocab, lowercase=False)\n",
    "geneData = geneVectorizer.transform(X_text_unique).toarray()"
   ]
  },
  {
   "cell_type": "code",
   "execution_count": 5,
   "metadata": {},
   "outputs": [
    {
     "data": {
      "text/plain": [
       "[<matplotlib.lines.Line2D at 0x112436f60>]"
      ]
     },
     "execution_count": 5,
     "metadata": {},
     "output_type": "execute_result"
    },
    {
     "data": {
      "image/png": "[encoded data removed]",
      "text/plain": [
       "<matplotlib.figure.Figure at 0x1157cc588>"
      ]
     },
     "metadata": {},
     "output_type": "display_data"
    }
   ],
   "source": [
    "dimension = 40\n",
    "pca_variants = dcmp.PCA(n_components = dimension)\n",
    "pca_variants.fit(variantData)\n",
    "plt.plot(pca_variants.explained_variance_ratio_)"
   ]
  },
  {
   "cell_type": "code",
   "execution_count": 105,
   "metadata": {},
   "outputs": [],
   "source": [
    "X_variants_reduced = pca_variants.transform(variantVectorizer.transform(X_text).toarray())\n",
    "X_w2v = np.load('./data/w2v_train_features.npy')\n",
    "X_total = np.concatenate((X_w2v, X_variants_reduced),axis=1)"
   ]
  },
  {
   "cell_type": "code",
   "execution_count": 107,
   "metadata": {
    "scrolled": false
   },
   "outputs": [],
   "source": []
  },
  {
   "cell_type": "code",
   "execution_count": 113,
   "metadata": {},
   "outputs": [],
   "source": []
  },
  {
   "cell_type": "code",
   "execution_count": 119,
   "metadata": {},
   "outputs": [],
   "source": [
    "clf = train_svm(X_total, y_train)"
   ]
  },
  {
   "cell_type": "code",
   "execution_count": 121,
   "metadata": {},
   "outputs": [],
   "source": [
    "y_train_prob = clf.predict_proba(X_total)"
   ]
  },
  {
   "cell_type": "code",
   "execution_count": 122,
   "metadata": {},
   "outputs": [
    {
     "data": {
      "text/plain": [
       "1.3327934193662707"
      ]
     },
     "execution_count": 122,
     "metadata": {},
     "output_type": "execute_result"
    }
   ],
   "source": [
    "log_loss(y_train, y_train_prob)"
   ]
  },
  {
   "cell_type": "markdown",
   "metadata": {},
   "source": [
    "# w2v only"
   ]
  },
  {
   "cell_type": "code",
   "execution_count": 12,
   "metadata": {},
   "outputs": [
    {
     "data": {
      "text/plain": [
       "1.0885489133301343"
      ]
     },
     "execution_count": 12,
     "metadata": {},
     "output_type": "execute_result"
    }
   ],
   "source": [
    "X_w2v = np.load('./data/w2v_train_features.npy')\n",
    "clf_w2v = train_svm(X_w2v, y_train)\n",
    "log_loss(y_train, clf_w2v.predict_proba(X_w2v))"
   ]
  },
  {
   "cell_type": "markdown",
   "metadata": {},
   "source": [
    "# variants + w2v pca"
   ]
  },
  {
   "cell_type": "code",
   "execution_count": 13,
   "metadata": {},
   "outputs": [
    {
     "data": {
      "text/plain": [
       "[<matplotlib.lines.Line2D at 0x1134c8048>]"
      ]
     },
     "execution_count": 13,
     "metadata": {},
     "output_type": "execute_result"
    },
    {
     "data": {
      "image/png": "[encoded data removed]",
      "text/plain": [
       "<matplotlib.figure.Figure at 0x1134c7a58>"
      ]
     },
     "metadata": {},
     "output_type": "display_data"
    }
   ],
   "source": [
    "X_variants_reduced = pca_variants.transform(variantVectorizer.transform(X_text).toarray())\n",
    "dimension = 20\n",
    "pca_w2v = dcmp.PCA(n_components = dimension)\n",
    "pca_w2v.fit(X_w2v)\n",
    "plt.plot(pca_w2v.explained_variance_ratio_)"
   ]
  },
  {
   "cell_type": "code",
   "execution_count": 134,
   "metadata": {},
   "outputs": [
    {
     "data": {
      "text/plain": [
       "1.3245135786398379"
      ]
     },
     "execution_count": 134,
     "metadata": {},
     "output_type": "execute_result"
    }
   ],
   "source": [
    "X_w2v_reduced = pca_w2v.transform(X_w2v)\n",
    "X_total_recued = np.concatenate((X_w2v_reduced, X_variants_reduced/5.), axis=1)\n",
    "clf_w2v_reduced = train_svm(X_total_recued, y_train)\n",
    "log_loss(y_train, clf_w2v_reduced.predict_proba(X_total_recued))"
   ]
  },
  {
   "cell_type": "markdown",
   "metadata": {},
   "source": [
    "# variants only"
   ]
  },
  {
   "cell_type": "code",
   "execution_count": 15,
   "metadata": {},
   "outputs": [
    {
     "data": {
      "text/plain": [
       "1.6491593275809515"
      ]
     },
     "execution_count": 15,
     "metadata": {},
     "output_type": "execute_result"
    }
   ],
   "source": [
    "clf_variants = train_svm(X_variants_reduced/5., y_train)\n",
    "log_loss(y_train, clf_variants.predict_proba(X_variants_reduced/5.))"
   ]
  },
  {
   "cell_type": "markdown",
   "metadata": {},
   "source": [
    "# ensembling predictions of variants + w2v"
   ]
  },
  {
   "cell_type": "code",
   "execution_count": 16,
   "metadata": {},
   "outputs": [],
   "source": [
    "w2v_proba = clf_w2v.predict_proba(X_w2v)\n",
    "var_proba = clf_variants.predict_proba(X_variants_reduced/5.)"
   ]
  },
  {
   "cell_type": "code",
   "execution_count": 142,
   "metadata": {},
   "outputs": [
    {
     "data": {
      "text/plain": [
       "1.0457777232067744"
      ]
     },
     "execution_count": 142,
     "metadata": {},
     "output_type": "execute_result"
    }
   ],
   "source": [
    "X_ensemble = np.concatenate((w2v_proba, var_proba), axis=1)\n",
    "clf_ensemble = train_svm(X_ensemble, y_train)\n",
    "log_loss(y_train, clf_ensemble.predict_proba(X_ensemble))"
   ]
  },
  {
   "cell_type": "markdown",
   "metadata": {},
   "source": [
    "# adding in genes as well"
   ]
  },
  {
   "cell_type": "code",
   "execution_count": 6,
   "metadata": {},
   "outputs": [
    {
     "data": {
      "image/png": "[encoded data removed]",
      "text/plain": [
       "<matplotlib.figure.Figure at 0x112433a58>"
      ]
     },
     "metadata": {},
     "output_type": "display_data"
    }
   ],
   "source": [
    "pca_genes = dcmp.PCA(n_components = 50)\n",
    "pca_genes.fit(geneData)\n",
    "plt.plot(pca_genes.explained_variance_ratio_)\n",
    "X_genes_reduced = pca_genes.transform(geneVectorizer.transform(X_text).toarray())"
   ]
  },
  {
   "cell_type": "code",
   "execution_count": 11,
   "metadata": {},
   "outputs": [
    {
     "data": {
      "text/plain": [
       "1.4239098916153585"
      ]
     },
     "execution_count": 11,
     "metadata": {},
     "output_type": "execute_result"
    }
   ],
   "source": [
    "k = np.sqrt(np.mean(np.square(X_genes_reduced)))\n",
    "clf_genes = train_svm(X_genes_reduced/k, y_train)\n",
    "log_loss(y_train, clf_genes.predict_proba(X_genes_reduced/k))"
   ]
  },
  {
   "cell_type": "code",
   "execution_count": 17,
   "metadata": {
    "collapsed": true
   },
   "outputs": [],
   "source": [
    "gene_proba = clf_genes.predict_proba(X_genes_reduced/k)"
   ]
  },
  {
   "cell_type": "code",
   "execution_count": 20,
   "metadata": {},
   "outputs": [
    {
     "data": {
      "text/plain": [
       "1.0127330146354843"
      ]
     },
     "execution_count": 20,
     "metadata": {},
     "output_type": "execute_result"
    }
   ],
   "source": [
    "X_ensemble = np.concatenate((w2v_proba, var_proba,gene_proba), axis=1)\n",
    "clf_ensemble = train_svm(X_ensemble, y_train)\n",
    "log_loss(y_train, clf_ensemble.predict_proba(X_ensemble))"
   ]
  },
  {
   "cell_type": "code",
   "execution_count": 24,
   "metadata": {},
   "outputs": [
    {
     "data": {
      "text/plain": [
       "1.0346275191476901"
      ]
     },
     "execution_count": 24,
     "metadata": {},
     "output_type": "execute_result"
    }
   ],
   "source": [
    "helpers.kfold_score(clf_ensemble, X_ensemble, y_train.values, splits=5)"
   ]
  },
  {
   "cell_type": "code",
   "execution_count": 26,
   "metadata": {},
   "outputs": [
    {
     "data": {
      "text/plain": [
       "1.2442857036544914"
      ]
     },
     "execution_count": 26,
     "metadata": {},
     "output_type": "execute_result"
    }
   ],
   "source": [
    "helpers.kfold_score(clf_w2v, X_w2v, y_train.values, splits=5)"
   ]
  },
  {
   "cell_type": "markdown",
   "metadata": {},
   "source": [
    "# submission stuff"
   ]
  },
  {
   "cell_type": "code",
   "execution_count": 28,
   "metadata": {
    "collapsed": true
   },
   "outputs": [],
   "source": [
    "test_data = pd.read_csv(\"./data/test_text\", sep=\"\\|\\|\", engine=\"python\", skiprows=1, names=[\"ID\", \"Text\"])\n",
    "test_text = test_data.Text"
   ]
  },
  {
   "cell_type": "code",
   "execution_count": 33,
   "metadata": {},
   "outputs": [],
   "source": [
    "test_data = pd.read_csv(\"./data/test_variants\")\n",
    "test_gene = test_data.Gene\n",
    "test_variant = test_data.Variation"
   ]
  },
  {
   "cell_type": "code",
   "execution_count": 35,
   "metadata": {},
   "outputs": [],
   "source": [
    "X_w2v_test = np.load('./data/w2v_test_features.npy')"
   ]
  },
  {
   "cell_type": "code",
   "execution_count": null,
   "metadata": {
    "collapsed": true
   },
   "outputs": [],
   "source": [
    "X_variants_test = pca_variants.transform(variantVectorizer.transform(test_text).toarray())"
   ]
  },
  {
   "cell_type": "code",
   "execution_count": null,
   "metadata": {
    "collapsed": true
   },
   "outputs": [],
   "source": [
    "X_genes_test = pca_genes.transform(geneVectorizer.transform(test_text).toarray())"
   ]
  },
  {
   "cell_type": "code",
   "execution_count": null,
   "metadata": {
    "collapsed": true
   },
   "outputs": [],
   "source": []
  }
 ],
 "metadata": {
  "kernelspec": {
   "display_name": "Python 3",
   "language": "python",
   "name": "python3"
  },
  "language_info": {
   "codemirror_mode": {
    "name": "ipython",
    "version": 3
   },
   "file_extension": ".py",
   "mimetype": "text/x-python",
   "name": "python",
   "nbconvert_exporter": "python",
   "pygments_lexer": "ipython3",
   "version": "3.6.1"
  }
 },
 "nbformat": 4,
 "nbformat_minor": 2
}
