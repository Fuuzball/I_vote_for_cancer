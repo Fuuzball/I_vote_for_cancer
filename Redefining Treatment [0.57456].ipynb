{
 "cells": [
  {
   "cell_type": "code",
   "execution_count": 11,
   "metadata": {
    "collapsed": true
   },
   "outputs": [],
   "source": [
    "from sklearn import *\n",
    "import sklearn\n",
    "import pandas as pd\n",
    "import numpy as np\n",
    "import xgboost as xgb"
   ]
  },
  {
   "cell_type": "code",
   "execution_count": 12,
   "metadata": {
    "collapsed": true
   },
   "outputs": [],
   "source": [
    "train = pd.read_csv('I_vote_for_cancer/data/training_variants')\n",
    "test = pd.read_csv('I_vote_for_cancer/data/test_variants')\n",
    "trainx = pd.read_csv('I_vote_for_cancer/data/training_text', sep=\"\\|\\|\", engine='python', header=None, skiprows=1, names=[\"ID\",\"Text\"])\n",
    "testx = pd.read_csv('I_vote_for_cancer/data/test_text', sep=\"\\|\\|\", engine='python', header=None, skiprows=1, names=[\"ID\",\"Text\"])\n",
    "\n",
    "train = pd.merge(train, trainx, how='left', on='ID').fillna('')\n",
    "y = train['Class'].values\n",
    "train = train.drop(['Class'], axis=1)\n",
    "\n",
    "test = pd.merge(test, testx, how='left', on='ID').fillna('')\n",
    "pid = test['ID'].values\n",
    "\n",
    "df_all = pd.concat((train, test), axis=0, ignore_index=True)\n",
    "df_all['Gene_Share'] = df_all.apply(lambda r: sum([1 for w in r['Gene'].split(' ') if w in r['Text'].split(' ')]), axis=1)"
   ]
  },
  {
   "cell_type": "code",
   "execution_count": 13,
   "metadata": {
    "collapsed": true
   },
   "outputs": [],
   "source": [
    "df_all['Variation_Share'] = df_all.apply(lambda r: sum([1 for w in r['Variation'].split(' ') if w in r['Text'].split(' ')]), axis=1)"
   ]
  },
  {
   "cell_type": "code",
   "execution_count": 14,
   "metadata": {
    "collapsed": true
   },
   "outputs": [],
   "source": [
    "#commented for Kaggle Limits\n",
    "for i in range(10):\n",
    "    df_all['Gene_'+str(i)] = df_all['Gene'].map(lambda x: str(x[i]) if len(x)>i else '')\n",
    "    df_all['Variation'+str(i)] = df_all['Variation'].map(lambda x: str(x[i]) if len(x)>i else '')"
   ]
  },
  {
   "cell_type": "code",
   "execution_count": 1,
   "metadata": {
    "collapsed": false
   },
   "outputs": [
    {
     "ename": "NameError",
     "evalue": "name 'train' is not defined",
     "output_type": "error",
     "traceback": [
      "\u001b[0;31m---------------------------------------------------------------------------\u001b[0m",
      "\u001b[0;31mNameError\u001b[0m                                 Traceback (most recent call last)",
      "\u001b[0;32m<ipython-input-1-5588e0bb239c>\u001b[0m in \u001b[0;36m<module>\u001b[0;34m()\u001b[0m\n\u001b[0;32m----> 1\u001b[0;31m \u001b[0mgen_var_lst\u001b[0m \u001b[0;34m=\u001b[0m \u001b[0msorted\u001b[0m\u001b[0;34m(\u001b[0m\u001b[0mlist\u001b[0m\u001b[0;34m(\u001b[0m\u001b[0mtrain\u001b[0m\u001b[0;34m.\u001b[0m\u001b[0mGene\u001b[0m\u001b[0;34m.\u001b[0m\u001b[0munique\u001b[0m\u001b[0;34m(\u001b[0m\u001b[0;34m)\u001b[0m\u001b[0;34m)\u001b[0m \u001b[0;34m+\u001b[0m \u001b[0mlist\u001b[0m\u001b[0;34m(\u001b[0m\u001b[0mtrain\u001b[0m\u001b[0;34m.\u001b[0m\u001b[0mVariation\u001b[0m\u001b[0;34m.\u001b[0m\u001b[0munique\u001b[0m\u001b[0;34m(\u001b[0m\u001b[0;34m)\u001b[0m\u001b[0;34m)\u001b[0m\u001b[0;34m)\u001b[0m\u001b[0;34m\u001b[0m\u001b[0m\n\u001b[0m\u001b[1;32m      2\u001b[0m \u001b[0mprint\u001b[0m\u001b[0;34m(\u001b[0m\u001b[0mlen\u001b[0m\u001b[0;34m(\u001b[0m\u001b[0mgen_var_lst\u001b[0m\u001b[0;34m)\u001b[0m\u001b[0;34m)\u001b[0m\u001b[0;34m\u001b[0m\u001b[0m\n\u001b[1;32m      3\u001b[0m \u001b[0mgen_var_lst\u001b[0m \u001b[0;34m=\u001b[0m \u001b[0;34m[\u001b[0m\u001b[0mx\u001b[0m \u001b[0;32mfor\u001b[0m \u001b[0mx\u001b[0m \u001b[0;32min\u001b[0m \u001b[0mgen_var_lst\u001b[0m \u001b[0;32mif\u001b[0m \u001b[0mlen\u001b[0m\u001b[0;34m(\u001b[0m\u001b[0mx\u001b[0m\u001b[0;34m.\u001b[0m\u001b[0msplit\u001b[0m\u001b[0;34m(\u001b[0m\u001b[0;34m' '\u001b[0m\u001b[0;34m)\u001b[0m\u001b[0;34m)\u001b[0m\u001b[0;34m==\u001b[0m\u001b[0;36m1\u001b[0m\u001b[0;34m]\u001b[0m\u001b[0;34m\u001b[0m\u001b[0m\n\u001b[1;32m      4\u001b[0m \u001b[0mprint\u001b[0m\u001b[0;34m(\u001b[0m\u001b[0mlen\u001b[0m\u001b[0;34m(\u001b[0m\u001b[0mgen_var_lst\u001b[0m\u001b[0;34m)\u001b[0m\u001b[0;34m)\u001b[0m\u001b[0;34m\u001b[0m\u001b[0m\n\u001b[1;32m      5\u001b[0m \u001b[0mi_\u001b[0m \u001b[0;34m=\u001b[0m \u001b[0;36m0\u001b[0m\u001b[0;34m\u001b[0m\u001b[0m\n",
      "\u001b[0;31mNameError\u001b[0m: name 'train' is not defined"
     ]
    }
   ],
   "source": [
    "gen_var_lst = sorted(list(train.Gene.unique()) + list(train.Variation.unique()))\n",
    "print(len(gen_var_lst))\n",
    "gen_var_lst = [x for x in gen_var_lst if len(x.split(' '))==1]\n",
    "print(len(gen_var_lst))\n",
    "i_ = 0\n",
    "#commented for Kaggle Limits\n",
    "for gen_var_lst_itm in gen_var_lst:\n",
    "    if i_ % 100 == 0: print(i_)\n",
    "    df_all['GV_'+str(gen_var_lst_itm)] = df_all['Text'].map(lambda x: str(x).count(str(gen_var_lst_itm)))\n",
    "    i_ += 1"
   ]
  },
  {
   "cell_type": "code",
   "execution_count": 16,
   "metadata": {
    "collapsed": true
   },
   "outputs": [],
   "source": [
    "for c in df_all.columns:\n",
    "    if df_all[c].dtype == 'object':\n",
    "        if c in ['Gene','Variation']:\n",
    "            lbl = preprocessing.LabelEncoder()\n",
    "            df_all[c+'_lbl_enc'] = lbl.fit_transform(df_all[c].values)  \n",
    "            df_all[c+'_len'] = df_all[c].map(lambda x: len(str(x)))\n",
    "            df_all[c+'_words'] = df_all[c].map(lambda x: len(str(x).split(' ')))\n",
    "        elif c != 'Text':\n",
    "            lbl = preprocessing.LabelEncoder()\n",
    "            df_all[c] = lbl.fit_transform(df_all[c].values)\n",
    "        if c=='Text': \n",
    "            df_all[c+'_len'] = df_all[c].map(lambda x: len(str(x)))\n",
    "            df_all[c+'_words'] = df_all[c].map(lambda x: len(str(x).split(' '))) \n",
    "\n",
    "train = df_all.iloc[:len(train)]\n",
    "test = df_all.iloc[len(train):]\n",
    "\n",
    "class cust_regression_vals(sklearn.base.BaseEstimator, sklearn.base.TransformerMixin):\n",
    "    def fit(self, x, y=None):\n",
    "        return self\n",
    "    def transform(self, x):\n",
    "        x = x.drop(['Gene', 'Variation','ID','Text'],axis=1).values\n",
    "        return x\n",
    "\n",
    "class cust_txt_col(sklearn.base.BaseEstimator, sklearn.base.TransformerMixin):\n",
    "    def __init__(self, key):\n",
    "        self.key = key\n",
    "    def fit(self, x, y=None):\n",
    "        return self\n",
    "    def transform(self, x):\n",
    "        return x[self.key].apply(str)\n"
   ]
  },
  {
   "cell_type": "code",
   "execution_count": 17,
   "metadata": {
    "collapsed": false
   },
   "outputs": [
    {
     "name": "stdout",
     "output_type": "stream",
     "text": [
      "Pipeline...\n",
      "(3321, 3211)\n",
      "(5668, 3211)\n"
     ]
    }
   ],
   "source": [
    "print('Pipeline...')\n",
    "fp = pipeline.Pipeline([\n",
    "    ('union', pipeline.FeatureUnion(\n",
    "        n_jobs = -1,\n",
    "        transformer_list = [\n",
    "            ('standard', cust_regression_vals()),\n",
    "            ('pi1', pipeline.Pipeline([('Gene', cust_txt_col('Gene')), ('count_Gene', feature_extraction.text.CountVectorizer(analyzer=u'char', ngram_range=(1, 8))), ('tsvd1', decomposition.TruncatedSVD(n_components=20, n_iter=25, random_state=12))])),\n",
    "            ('pi2', pipeline.Pipeline([('Variation', cust_txt_col('Variation')), ('count_Variation', feature_extraction.text.CountVectorizer(analyzer=u'char', ngram_range=(1, 8))), ('tsvd2', decomposition.TruncatedSVD(n_components=20, n_iter=25, random_state=12))])),\n",
    "            #commented for Kaggle Limits\n",
    "            ('pi3', pipeline.Pipeline([('Text', cust_txt_col('Text')), ('tfidf_Text', feature_extraction.text.TfidfVectorizer(ngram_range=(1, 2))), ('tsvd3', decomposition.TruncatedSVD(n_components=50, n_iter=25, random_state=12))]))\n",
    "        ])\n",
    "    )])\n",
    "\n",
    "train = fp.fit_transform(train); print(train.shape)\n",
    "test = fp.transform(test); print(test.shape)"
   ]
  },
  {
   "cell_type": "code",
   "execution_count": 18,
   "metadata": {
    "collapsed": false
   },
   "outputs": [
    {
     "name": "stdout",
     "output_type": "stream",
     "text": [
      "[0]\ttrain-mlogloss:2.1401\tvalid-mlogloss:2.14783\n",
      "Multiple eval metrics have been passed: 'valid-mlogloss' will be used for early stopping.\n",
      "\n",
      "Will train until valid-mlogloss hasn't improved in 100 rounds.\n",
      "[50]\ttrain-mlogloss:1.10034\tvalid-mlogloss:1.28644\n",
      "[100]\ttrain-mlogloss:0.818031\tvalid-mlogloss:1.10369\n",
      "[150]\ttrain-mlogloss:0.671844\tvalid-mlogloss:1.03089\n",
      "[200]\ttrain-mlogloss:0.573596\tvalid-mlogloss:0.994923\n",
      "[250]\ttrain-mlogloss:0.496919\tvalid-mlogloss:0.97528\n",
      "[300]\ttrain-mlogloss:0.43798\tvalid-mlogloss:0.965332\n",
      "[350]\ttrain-mlogloss:0.390323\tvalid-mlogloss:0.95709\n",
      "[400]\ttrain-mlogloss:0.347497\tvalid-mlogloss:0.952986\n",
      "[450]\ttrain-mlogloss:0.311567\tvalid-mlogloss:0.949615\n",
      "[500]\ttrain-mlogloss:0.277913\tvalid-mlogloss:0.949293\n",
      "[550]\ttrain-mlogloss:0.249054\tvalid-mlogloss:0.949732\n",
      "[600]\ttrain-mlogloss:0.223116\tvalid-mlogloss:0.952678\n",
      "Stopping. Best iteration:\n",
      "[533]\ttrain-mlogloss:0.258215\tvalid-mlogloss:0.949164\n",
      "\n",
      "0.949163994222\n",
      "[0]\ttrain-mlogloss:2.14187\tvalid-mlogloss:2.14928\n",
      "Multiple eval metrics have been passed: 'valid-mlogloss' will be used for early stopping.\n",
      "\n",
      "Will train until valid-mlogloss hasn't improved in 100 rounds.\n",
      "[50]\ttrain-mlogloss:1.10248\tvalid-mlogloss:1.28617\n",
      "[100]\ttrain-mlogloss:0.821225\tvalid-mlogloss:1.09356\n",
      "[150]\ttrain-mlogloss:0.668887\tvalid-mlogloss:1.02187\n",
      "[200]\ttrain-mlogloss:0.572945\tvalid-mlogloss:0.987204\n",
      "[250]\ttrain-mlogloss:0.501022\tvalid-mlogloss:0.96847\n",
      "[300]\ttrain-mlogloss:0.44078\tvalid-mlogloss:0.956987\n",
      "[350]\ttrain-mlogloss:0.39236\tvalid-mlogloss:0.949936\n",
      "[400]\ttrain-mlogloss:0.351393\tvalid-mlogloss:0.946041\n",
      "[450]\ttrain-mlogloss:0.315358\tvalid-mlogloss:0.945121\n",
      "[500]\ttrain-mlogloss:0.283354\tvalid-mlogloss:0.94504\n",
      "[550]\ttrain-mlogloss:0.254081\tvalid-mlogloss:0.945091\n",
      "[600]\ttrain-mlogloss:0.228286\tvalid-mlogloss:0.947667\n",
      "Stopping. Best iteration:\n",
      "[528]\ttrain-mlogloss:0.26683\tvalid-mlogloss:0.944142\n",
      "\n",
      "0.944142396021\n",
      "[0]\ttrain-mlogloss:2.1406\tvalid-mlogloss:2.14639\n",
      "Multiple eval metrics have been passed: 'valid-mlogloss' will be used for early stopping.\n",
      "\n",
      "Will train until valid-mlogloss hasn't improved in 100 rounds.\n",
      "[50]\ttrain-mlogloss:1.11303\tvalid-mlogloss:1.24975\n",
      "[100]\ttrain-mlogloss:0.831342\tvalid-mlogloss:1.05294\n",
      "[150]\ttrain-mlogloss:0.684234\tvalid-mlogloss:0.979013\n",
      "[200]\ttrain-mlogloss:0.58285\tvalid-mlogloss:0.937719\n",
      "[250]\ttrain-mlogloss:0.503261\tvalid-mlogloss:0.914367\n",
      "[300]\ttrain-mlogloss:0.443143\tvalid-mlogloss:0.900499\n",
      "[350]\ttrain-mlogloss:0.394703\tvalid-mlogloss:0.890974\n",
      "[400]\ttrain-mlogloss:0.352303\tvalid-mlogloss:0.884138\n",
      "[450]\ttrain-mlogloss:0.316632\tvalid-mlogloss:0.881063\n",
      "[500]\ttrain-mlogloss:0.28418\tvalid-mlogloss:0.880321\n",
      "[550]\ttrain-mlogloss:0.25436\tvalid-mlogloss:0.881825\n",
      "Stopping. Best iteration:\n",
      "[462]\ttrain-mlogloss:0.308238\tvalid-mlogloss:0.880043\n",
      "\n",
      "0.880042862786\n",
      "[0]\ttrain-mlogloss:2.13912\tvalid-mlogloss:2.14676\n",
      "Multiple eval metrics have been passed: 'valid-mlogloss' will be used for early stopping.\n",
      "\n",
      "Will train until valid-mlogloss hasn't improved in 100 rounds.\n",
      "[50]\ttrain-mlogloss:1.09867\tvalid-mlogloss:1.28435\n",
      "[100]\ttrain-mlogloss:0.818675\tvalid-mlogloss:1.09986\n",
      "[150]\ttrain-mlogloss:0.665224\tvalid-mlogloss:1.02898\n",
      "[200]\ttrain-mlogloss:0.566754\tvalid-mlogloss:0.998452\n",
      "[250]\ttrain-mlogloss:0.493382\tvalid-mlogloss:0.980522\n",
      "[300]\ttrain-mlogloss:0.43454\tvalid-mlogloss:0.970363\n",
      "[350]\ttrain-mlogloss:0.38521\tvalid-mlogloss:0.96154\n",
      "[400]\ttrain-mlogloss:0.342836\tvalid-mlogloss:0.960304\n",
      "[450]\ttrain-mlogloss:0.305679\tvalid-mlogloss:0.960316\n",
      "Stopping. Best iteration:\n",
      "[371]\ttrain-mlogloss:0.366122\tvalid-mlogloss:0.959746\n",
      "\n",
      "0.959746122024\n",
      "[0]\ttrain-mlogloss:2.14175\tvalid-mlogloss:2.1445\n",
      "Multiple eval metrics have been passed: 'valid-mlogloss' will be used for early stopping.\n",
      "\n",
      "Will train until valid-mlogloss hasn't improved in 100 rounds.\n",
      "[50]\ttrain-mlogloss:1.11254\tvalid-mlogloss:1.23372\n",
      "[100]\ttrain-mlogloss:0.830497\tvalid-mlogloss:1.03257\n",
      "[150]\ttrain-mlogloss:0.681019\tvalid-mlogloss:0.956286\n",
      "[200]\ttrain-mlogloss:0.577147\tvalid-mlogloss:0.919036\n",
      "[250]\ttrain-mlogloss:0.500812\tvalid-mlogloss:0.900497\n",
      "[300]\ttrain-mlogloss:0.439326\tvalid-mlogloss:0.889507\n",
      "[350]\ttrain-mlogloss:0.389971\tvalid-mlogloss:0.883176\n",
      "[400]\ttrain-mlogloss:0.347933\tvalid-mlogloss:0.879441\n",
      "[450]\ttrain-mlogloss:0.310715\tvalid-mlogloss:0.877402\n",
      "[500]\ttrain-mlogloss:0.27693\tvalid-mlogloss:0.877632\n",
      "[550]\ttrain-mlogloss:0.248792\tvalid-mlogloss:0.879678\n",
      "Stopping. Best iteration:\n",
      "[483]\ttrain-mlogloss:0.287778\tvalid-mlogloss:0.877227\n",
      "\n",
      "0.877227121701\n"
     ]
    }
   ],
   "source": [
    "y = y - 1 #fix for zero bound array\n",
    "\n",
    "denom = 0\n",
    "fold = 5 #Change to 5, 1 for Kaggle Limits\n",
    "for i in range(fold):\n",
    "    params = {\n",
    "        'eta': 0.03333,\n",
    "        'max_depth': 4,\n",
    "        'objective': 'multi:softprob',\n",
    "        'eval_metric': 'mlogloss',\n",
    "        'num_class': 9,\n",
    "        'seed': i,\n",
    "        'silent': True\n",
    "    }\n",
    "    x1, x2, y1, y2 = model_selection.train_test_split(train, y, test_size=0.18, random_state=i)\n",
    "    watchlist = [(xgb.DMatrix(x1, y1), 'train'), (xgb.DMatrix(x2, y2), 'valid')]\n",
    "    model = xgb.train(params, xgb.DMatrix(x1, y1), 1000,  watchlist, verbose_eval=50, early_stopping_rounds=100)\n",
    "    score1 = metrics.log_loss(y2, model.predict(xgb.DMatrix(x2), ntree_limit=model.best_ntree_limit), labels = list(range(9)))\n",
    "    print(score1)\n",
    "    #if score < 0.9:\n",
    "    if denom != 0:\n",
    "        pred = model.predict(xgb.DMatrix(test), ntree_limit=model.best_ntree_limit+80)\n",
    "        preds += pred\n",
    "    else:\n",
    "        pred = model.predict(xgb.DMatrix(test), ntree_limit=model.best_ntree_limit+80)\n",
    "        preds = pred.copy()\n",
    "    denom += 1\n",
    "    submission = pd.DataFrame(pred, columns=['class'+str(c+1) for c in range(9)])\n",
    "    submission['ID'] = pid\n",
    "    submission.to_csv('submission_xgb_fold_'  + str(i) + '.csv', index=False)\n",
    "preds /= denom\n",
    "submission = pd.DataFrame(preds, columns=['class'+str(c+1) for c in range(9)])\n",
    "submission['ID'] = pid\n",
    "submission.to_csv('submission_xgb.csv', index=False)"
   ]
  },
  {
   "cell_type": "code",
   "execution_count": 19,
   "metadata": {
    "collapsed": false
   },
   "outputs": [
    {
     "data": {
      "image/png": "[encoded data removed]",
      "text/plain": [
       "<matplotlib.figure.Figure at 0x13cb76f28>"
      ]
     },
     "metadata": {},
     "output_type": "display_data"
    }
   ],
   "source": [
    "import matplotlib.pyplot as plt\n",
    "import seaborn as sns\n",
    "%matplotlib inline\n",
    "\n",
    "plt.rcParams['figure.figsize'] = (7.0, 7.0)\n",
    "xgb.plot_importance(booster=model); plt.show()"
   ]
  }
 ],
 "metadata": {
  "anaconda-cloud": {},
  "kernelspec": {
   "display_name": "Python [default]",
   "language": "python",
   "name": "python3"
  },
  "language_info": {
   "codemirror_mode": {
    "name": "ipython",
    "version": 3
   },
   "file_extension": ".py",
   "mimetype": "text/x-python",
   "name": "python",
   "nbconvert_exporter": "python",
   "pygments_lexer": "ipython3",
   "version": "3.5.2"
  }
 },
 "nbformat": 4,
 "nbformat_minor": 2
}
